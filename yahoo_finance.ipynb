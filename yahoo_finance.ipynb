{
  "nbformat": 4,
  "nbformat_minor": 0,
  "metadata": {
    "colab": {
      "name": "yahoo-finance.ipynb",
      "provenance": [],
      "collapsed_sections": [],
      "authorship_tag": "ABX9TyNbOMvn11saPZjclc07y0vT",
      "include_colab_link": true
    },
    "kernelspec": {
      "name": "python3",
      "display_name": "Python 3"
    },
    "language_info": {
      "name": "python"
    }
  },
  "cells": [
    {
      "cell_type": "markdown",
      "metadata": {
        "id": "view-in-github",
        "colab_type": "text"
      },
      "source": [
        "<a href=\"https://colab.research.google.com/github/mrtuborg/myJupyter/blob/main/yahoo_finance.ipynb\" target=\"_parent\"><img src=\"https://colab.research.google.com/assets/colab-badge.svg\" alt=\"Open In Colab\"/></a>"
      ]
    },
    {
      "cell_type": "code",
      "metadata": {
        "colab": {
          "base_uri": "https://localhost:8080/"
        },
        "id": "25b_AQu8O1VM",
        "outputId": "51033883-2dfc-4f33-dc77-157a1a1ff7e7"
      },
      "source": [
        "!pip install yahooquery\n"
      ],
      "execution_count": 2,
      "outputs": [
        {
          "output_type": "stream",
          "text": [
            "Collecting yahooquery\n",
            "\u001b[?25l  Downloading https://files.pythonhosted.org/packages/0e/73/e1ae346b40d5fd48747a4153339e36e4b95bc0338688a269fd9ca7862320/yahooquery-2.2.15-py2.py3-none-any.whl (46kB)\n",
            "\r\u001b[K     |███████                         | 10kB 17.3MB/s eta 0:00:01\r\u001b[K     |██████████████▏                 | 20kB 23.1MB/s eta 0:00:01\r\u001b[K     |█████████████████████▏          | 30kB 12.1MB/s eta 0:00:01\r\u001b[K     |████████████████████████████▎   | 40kB 9.8MB/s eta 0:00:01\r\u001b[K     |████████████████████████████████| 51kB 4.1MB/s \n",
            "\u001b[?25hCollecting requests-futures>=1.0.0\n",
            "  Downloading https://files.pythonhosted.org/packages/47/c4/fd48d1ac5110a5457c71ac7cc4caa93da10a80b8de71112430e439bdee22/requests-futures-1.0.0.tar.gz\n",
            "Collecting lxml>=4.6.2\n",
            "\u001b[?25l  Downloading https://files.pythonhosted.org/packages/30/c0/d0526314971fc661b083ab135747dc68446a3022686da8c16d25fcf6ef07/lxml-4.6.3-cp37-cp37m-manylinux2014_x86_64.whl (6.3MB)\n",
            "\u001b[K     |████████████████████████████████| 6.3MB 9.6MB/s \n",
            "\u001b[?25hCollecting tqdm>=4.54.1\n",
            "\u001b[?25l  Downloading https://files.pythonhosted.org/packages/42/d7/f357d98e9b50346bcb6095fe3ad205d8db3174eb5edb03edfe7c4099576d/tqdm-4.61.0-py2.py3-none-any.whl (75kB)\n",
            "\u001b[K     |████████████████████████████████| 81kB 12.4MB/s \n",
            "\u001b[?25hRequirement already satisfied: pandas>=0.24.0 in /usr/local/lib/python3.7/dist-packages (from yahooquery) (1.1.5)\n",
            "Requirement already satisfied: requests>=1.2.0 in /usr/local/lib/python3.7/dist-packages (from requests-futures>=1.0.0->yahooquery) (2.23.0)\n",
            "Requirement already satisfied: numpy>=1.15.4 in /usr/local/lib/python3.7/dist-packages (from pandas>=0.24.0->yahooquery) (1.19.5)\n",
            "Requirement already satisfied: pytz>=2017.2 in /usr/local/lib/python3.7/dist-packages (from pandas>=0.24.0->yahooquery) (2018.9)\n",
            "Requirement already satisfied: python-dateutil>=2.7.3 in /usr/local/lib/python3.7/dist-packages (from pandas>=0.24.0->yahooquery) (2.8.1)\n",
            "Requirement already satisfied: chardet<4,>=3.0.2 in /usr/local/lib/python3.7/dist-packages (from requests>=1.2.0->requests-futures>=1.0.0->yahooquery) (3.0.4)\n",
            "Requirement already satisfied: certifi>=2017.4.17 in /usr/local/lib/python3.7/dist-packages (from requests>=1.2.0->requests-futures>=1.0.0->yahooquery) (2020.12.5)\n",
            "Requirement already satisfied: urllib3!=1.25.0,!=1.25.1,<1.26,>=1.21.1 in /usr/local/lib/python3.7/dist-packages (from requests>=1.2.0->requests-futures>=1.0.0->yahooquery) (1.24.3)\n",
            "Requirement already satisfied: idna<3,>=2.5 in /usr/local/lib/python3.7/dist-packages (from requests>=1.2.0->requests-futures>=1.0.0->yahooquery) (2.10)\n",
            "Requirement already satisfied: six>=1.5 in /usr/local/lib/python3.7/dist-packages (from python-dateutil>=2.7.3->pandas>=0.24.0->yahooquery) (1.15.0)\n",
            "Building wheels for collected packages: requests-futures\n",
            "  Building wheel for requests-futures (setup.py) ... \u001b[?25l\u001b[?25hdone\n",
            "  Created wheel for requests-futures: filename=requests_futures-1.0.0-cp37-none-any.whl size=7012 sha256=5ff6c5e9394fa9fe4b3e4c7e5196f32b4cb56974d4e0fe79b7d9b92f7adb42d9\n",
            "  Stored in directory: /root/.cache/pip/wheels/26/d0/f5/dc4e4a37bbe55c9acf967d2bd899152412c1e49c227f5395ff\n",
            "Successfully built requests-futures\n",
            "Installing collected packages: requests-futures, lxml, tqdm, yahooquery\n",
            "  Found existing installation: lxml 4.2.6\n",
            "    Uninstalling lxml-4.2.6:\n",
            "      Successfully uninstalled lxml-4.2.6\n",
            "  Found existing installation: tqdm 4.41.1\n",
            "    Uninstalling tqdm-4.41.1:\n",
            "      Successfully uninstalled tqdm-4.41.1\n",
            "Successfully installed lxml-4.6.3 requests-futures-1.0.0 tqdm-4.61.0 yahooquery-2.2.15\n"
          ],
          "name": "stdout"
        }
      ]
    },
    {
      "cell_type": "code",
      "metadata": {
        "colab": {
          "base_uri": "https://localhost:8080/"
        },
        "id": "sDPgEspgPIVo",
        "outputId": "23d26629-0362-4e78-ed8c-4a9b47198a86"
      },
      "source": [
        "from yahooquery import Ticker\n",
        "import pprint\n",
        "\n",
        "symbol = 'OBXD.OL'\n",
        "data = Ticker(symbol)\n",
        "holdings = data.fund_holding_info[symbol]['holdings']\n",
        "#pprint(symbol.summary_detail)\n",
        "#print(symbol.fund_sector_weightings)\n",
        "\n",
        "pp = pprint.PrettyPrinter(indent=4)\n",
        "#pp.pprint(holdings)\n",
        "for x in holdings:\n",
        "  holdingData = Ticker(x['symbol'])\n",
        "  pp.pprint(holdingData.summary_detail)\n",
        "  x['earnings']=0.0\n",
        "  x['shares count']=0\n",
        "  print(x)"
      ],
      "execution_count": 13,
      "outputs": [
        {
          "output_type": "stream",
          "text": [
            "{   'EQNR': {   'algorithm': None,\n",
            "                'ask': 0.0,\n",
            "                'askSize': 3100,\n",
            "                'averageDailyVolume10Day': 2393560,\n",
            "                'averageVolume': 2490123,\n",
            "                'averageVolume10days': 2393560,\n",
            "                'beta': 0.78864,\n",
            "                'bid': 0.0,\n",
            "                'bidSize': 800,\n",
            "                'currency': 'USD',\n",
            "                'dayHigh': 22.91,\n",
            "                'dayLow': 22.45,\n",
            "                'dividendRate': 0.48,\n",
            "                'dividendYield': 0.0219,\n",
            "                'exDividendDate': '2021-05-13 00:00:00',\n",
            "                'fiftyDayAverage': 20.780882,\n",
            "                'fiftyTwoWeekHigh': 22.91,\n",
            "                'fiftyTwoWeekLow': 12.11,\n",
            "                'fiveYearAvgDividendYield': 4.79,\n",
            "                'forwardPE': 38.677967,\n",
            "                'fromCurrency': None,\n",
            "                'lastMarket': None,\n",
            "                'marketCap': 71377764352,\n",
            "                'maxAge': 1,\n",
            "                'open': 22.45,\n",
            "                'previousClose': 21.91,\n",
            "                'priceHint': 2,\n",
            "                'priceToSalesTrailing12Months': 1.5246121,\n",
            "                'regularMarketDayHigh': 22.91,\n",
            "                'regularMarketDayLow': 22.45,\n",
            "                'regularMarketOpen': 22.45,\n",
            "                'regularMarketPreviousClose': 21.91,\n",
            "                'regularMarketVolume': 3790096,\n",
            "                'toCurrency': None,\n",
            "                'tradeable': False,\n",
            "                'trailingAnnualDividendRate': 0.47,\n",
            "                'trailingAnnualDividendYield': 0.021451391,\n",
            "                'twoHundredDayAverage': 18.810299,\n",
            "                'volume': 3790096}}\n",
            "{'symbol': 'EQNR', 'holdingName': 'Equinor ASA', 'holdingPercent': 0.1549, 'earnings': 0.0, 'shares count': 0}\n",
            "{   'DNB': {   'algorithm': None,\n",
            "               'ask': 0.0,\n",
            "               'askSize': 800,\n",
            "               'averageDailyVolume10Day': 2898240,\n",
            "               'averageVolume': 1926830,\n",
            "               'averageVolume10days': 2898240,\n",
            "               'bid': 0.0,\n",
            "               'bidSize': 800,\n",
            "               'currency': 'USD',\n",
            "               'dayHigh': 21.68,\n",
            "               'dayLow': 20.99,\n",
            "               'fiftyDayAverage': 22.845,\n",
            "               'fiftyTwoWeekHigh': 29.548,\n",
            "               'fiftyTwoWeekLow': 20.99,\n",
            "               'forwardPE': 18.12931,\n",
            "               'fromCurrency': None,\n",
            "               'lastMarket': None,\n",
            "               'marketCap': 9072531456,\n",
            "               'maxAge': 1,\n",
            "               'open': 21.55,\n",
            "               'payoutRatio': 0.0,\n",
            "               'previousClose': 21.47,\n",
            "               'priceHint': 2,\n",
            "               'priceToSalesTrailing12Months': 4.9123025,\n",
            "               'regularMarketDayHigh': 21.68,\n",
            "               'regularMarketDayLow': 20.99,\n",
            "               'regularMarketOpen': 21.55,\n",
            "               'regularMarketPreviousClose': 21.47,\n",
            "               'regularMarketVolume': 1038261,\n",
            "               'toCurrency': None,\n",
            "               'tradeable': False,\n",
            "               'twoHundredDayAverage': 24.315075,\n",
            "               'volume': 1038261}}\n",
            "{'symbol': 'DNB', 'holdingName': 'DNB ASA', 'holdingPercent': 0.1375, 'earnings': 0.0, 'shares count': 0}\n",
            "{   'TEL': {   'algorithm': None,\n",
            "               'ask': 140.0,\n",
            "               'askSize': 800,\n",
            "               'averageDailyVolume10Day': 1438380,\n",
            "               'averageVolume': 1690428,\n",
            "               'averageVolume10days': 1438380,\n",
            "               'beta': 1.352406,\n",
            "               'bid': 0.0,\n",
            "               'bidSize': 800,\n",
            "               'currency': 'USD',\n",
            "               'dayHigh': 138.24,\n",
            "               'dayLow': 136.59,\n",
            "               'dividendRate': 2.0,\n",
            "               'dividendYield': 0.0147,\n",
            "               'exDividendDate': '2021-08-19 00:00:00',\n",
            "               'fiftyDayAverage': 133.6797,\n",
            "               'fiftyTwoWeekHigh': 138.99,\n",
            "               'fiftyTwoWeekLow': 75.7,\n",
            "               'fiveYearAvgDividendYield': 1.94,\n",
            "               'forwardPE': 20.373335,\n",
            "               'fromCurrency': None,\n",
            "               'lastMarket': None,\n",
            "               'marketCap': 45412540416,\n",
            "               'maxAge': 1,\n",
            "               'open': 137.25,\n",
            "               'payoutRatio': 0.6115,\n",
            "               'previousClose': 135.68,\n",
            "               'priceHint': 2,\n",
            "               'priceToSalesTrailing12Months': 3.4748292,\n",
            "               'regularMarketDayHigh': 138.24,\n",
            "               'regularMarketDayLow': 136.59,\n",
            "               'regularMarketOpen': 137.25,\n",
            "               'regularMarketPreviousClose': 135.68,\n",
            "               'regularMarketVolume': 1337998,\n",
            "               'toCurrency': None,\n",
            "               'tradeable': False,\n",
            "               'trailingAnnualDividendRate': 1.92,\n",
            "               'trailingAnnualDividendYield': 0.014150944,\n",
            "               'trailingPE': 42.45755,\n",
            "               'twoHundredDayAverage': 127.0791,\n",
            "               'volume': 1337998}}\n",
            "{'symbol': 'TEL', 'holdingName': 'Telenor ASA', 'holdingPercent': 0.077, 'earnings': 0.0, 'shares count': 0}\n",
            "{'MOWI': 'Quote not found for ticker symbol: MOWI'}\n",
            "{'symbol': 'MOWI', 'holdingName': 'Mowi ASA', 'holdingPercent': 0.0713, 'earnings': 0.0, 'shares count': 0}\n",
            "{'YAR': 'No fundamentals data found for any of the summaryTypes=summaryDetail'}\n",
            "{'symbol': 'YAR', 'holdingName': 'Yara International ASA', 'holdingPercent': 0.063, 'earnings': 0.0, 'shares count': 0}\n",
            "{'NHY': 'No fundamentals data found for any of the summaryTypes=summaryDetail'}\n",
            "{'symbol': 'NHY', 'holdingName': 'Norsk Hydro ASA', 'holdingPercent': 0.0598, 'earnings': 0.0, 'shares count': 0}\n",
            "{'ORK': 'No fundamentals data found for any of the summaryTypes=summaryDetail'}\n",
            "{'symbol': 'ORK', 'holdingName': 'Orkla ASA', 'holdingPercent': 0.0511, 'earnings': 0.0, 'shares count': 0}\n",
            "{'TOM': 'No fundamentals data found for any of the summaryTypes=summaryDetail'}\n",
            "{'symbol': 'TOM', 'holdingName': 'Tomra Systems ASA', 'holdingPercent': 0.0356, 'earnings': 0.0, 'shares count': 0}\n",
            "{'STB': 'Quote not found for ticker symbol: STB'}\n",
            "{'symbol': 'STB', 'holdingName': 'Storebrand ASA', 'holdingPercent': 0.0327, 'earnings': 0.0, 'shares count': 0}\n",
            "{'GJF': 'No fundamentals data found for any of the summaryTypes=summaryDetail'}\n",
            "{'symbol': 'GJF', 'holdingName': 'Gjensidige Forsikring ASA', 'holdingPercent': 0.0326, 'earnings': 0.0, 'shares count': 0}\n"
          ],
          "name": "stdout"
        }
      ]
    },
    {
      "cell_type": "code",
      "metadata": {
        "id": "9LLCSO6-Upiq"
      },
      "source": [
        ""
      ],
      "execution_count": null,
      "outputs": []
    }
  ]
}