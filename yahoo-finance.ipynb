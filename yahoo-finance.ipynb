{
  "nbformat": 4,
  "nbformat_minor": 0,
  "metadata": {
    "colab": {
      "name": "Untitled0.ipynb",
      "provenance": [],
      "authorship_tag": "ABX9TyNmXZj0GmxxwhQcsb8sEoM+",
      "include_colab_link": true
    },
    "kernelspec": {
      "name": "python3",
      "display_name": "Python 3"
    },
    "language_info": {
      "name": "python"
    }
  },
  "cells": [
    {
      "cell_type": "markdown",
      "metadata": {
        "id": "view-in-github",
        "colab_type": "text"
      },
      "source": [
        "<a href=\"https://colab.research.google.com/github/mrtuborg/myJupyter/blob/main/yahoo-finance.ipynb\" target=\"_parent\"><img src=\"https://colab.research.google.com/assets/colab-badge.svg\" alt=\"Open In Colab\"/></a>"
      ]
    },
    {
      "cell_type": "code",
      "metadata": {
        "colab": {
          "base_uri": "https://localhost:8080/"
        },
        "id": "25b_AQu8O1VM",
        "outputId": "51033883-2dfc-4f33-dc77-157a1a1ff7e7"
      },
      "source": [
        "!pip install yahooquery\n"
      ],
      "execution_count": 2,
      "outputs": [
        {
          "output_type": "stream",
          "text": [
            "Collecting yahooquery\n",
            "\u001b[?25l  Downloading https://files.pythonhosted.org/packages/0e/73/e1ae346b40d5fd48747a4153339e36e4b95bc0338688a269fd9ca7862320/yahooquery-2.2.15-py2.py3-none-any.whl (46kB)\n",
            "\r\u001b[K     |███████                         | 10kB 17.3MB/s eta 0:00:01\r\u001b[K     |██████████████▏                 | 20kB 23.1MB/s eta 0:00:01\r\u001b[K     |█████████████████████▏          | 30kB 12.1MB/s eta 0:00:01\r\u001b[K     |████████████████████████████▎   | 40kB 9.8MB/s eta 0:00:01\r\u001b[K     |████████████████████████████████| 51kB 4.1MB/s \n",
            "\u001b[?25hCollecting requests-futures>=1.0.0\n",
            "  Downloading https://files.pythonhosted.org/packages/47/c4/fd48d1ac5110a5457c71ac7cc4caa93da10a80b8de71112430e439bdee22/requests-futures-1.0.0.tar.gz\n",
            "Collecting lxml>=4.6.2\n",
            "\u001b[?25l  Downloading https://files.pythonhosted.org/packages/30/c0/d0526314971fc661b083ab135747dc68446a3022686da8c16d25fcf6ef07/lxml-4.6.3-cp37-cp37m-manylinux2014_x86_64.whl (6.3MB)\n",
            "\u001b[K     |████████████████████████████████| 6.3MB 9.6MB/s \n",
            "\u001b[?25hCollecting tqdm>=4.54.1\n",
            "\u001b[?25l  Downloading https://files.pythonhosted.org/packages/42/d7/f357d98e9b50346bcb6095fe3ad205d8db3174eb5edb03edfe7c4099576d/tqdm-4.61.0-py2.py3-none-any.whl (75kB)\n",
            "\u001b[K     |████████████████████████████████| 81kB 12.4MB/s \n",
            "\u001b[?25hRequirement already satisfied: pandas>=0.24.0 in /usr/local/lib/python3.7/dist-packages (from yahooquery) (1.1.5)\n",
            "Requirement already satisfied: requests>=1.2.0 in /usr/local/lib/python3.7/dist-packages (from requests-futures>=1.0.0->yahooquery) (2.23.0)\n",
            "Requirement already satisfied: numpy>=1.15.4 in /usr/local/lib/python3.7/dist-packages (from pandas>=0.24.0->yahooquery) (1.19.5)\n",
            "Requirement already satisfied: pytz>=2017.2 in /usr/local/lib/python3.7/dist-packages (from pandas>=0.24.0->yahooquery) (2018.9)\n",
            "Requirement already satisfied: python-dateutil>=2.7.3 in /usr/local/lib/python3.7/dist-packages (from pandas>=0.24.0->yahooquery) (2.8.1)\n",
            "Requirement already satisfied: chardet<4,>=3.0.2 in /usr/local/lib/python3.7/dist-packages (from requests>=1.2.0->requests-futures>=1.0.0->yahooquery) (3.0.4)\n",
            "Requirement already satisfied: certifi>=2017.4.17 in /usr/local/lib/python3.7/dist-packages (from requests>=1.2.0->requests-futures>=1.0.0->yahooquery) (2020.12.5)\n",
            "Requirement already satisfied: urllib3!=1.25.0,!=1.25.1,<1.26,>=1.21.1 in /usr/local/lib/python3.7/dist-packages (from requests>=1.2.0->requests-futures>=1.0.0->yahooquery) (1.24.3)\n",
            "Requirement already satisfied: idna<3,>=2.5 in /usr/local/lib/python3.7/dist-packages (from requests>=1.2.0->requests-futures>=1.0.0->yahooquery) (2.10)\n",
            "Requirement already satisfied: six>=1.5 in /usr/local/lib/python3.7/dist-packages (from python-dateutil>=2.7.3->pandas>=0.24.0->yahooquery) (1.15.0)\n",
            "Building wheels for collected packages: requests-futures\n",
            "  Building wheel for requests-futures (setup.py) ... \u001b[?25l\u001b[?25hdone\n",
            "  Created wheel for requests-futures: filename=requests_futures-1.0.0-cp37-none-any.whl size=7012 sha256=5ff6c5e9394fa9fe4b3e4c7e5196f32b4cb56974d4e0fe79b7d9b92f7adb42d9\n",
            "  Stored in directory: /root/.cache/pip/wheels/26/d0/f5/dc4e4a37bbe55c9acf967d2bd899152412c1e49c227f5395ff\n",
            "Successfully built requests-futures\n",
            "Installing collected packages: requests-futures, lxml, tqdm, yahooquery\n",
            "  Found existing installation: lxml 4.2.6\n",
            "    Uninstalling lxml-4.2.6:\n",
            "      Successfully uninstalled lxml-4.2.6\n",
            "  Found existing installation: tqdm 4.41.1\n",
            "    Uninstalling tqdm-4.41.1:\n",
            "      Successfully uninstalled tqdm-4.41.1\n",
            "Successfully installed lxml-4.6.3 requests-futures-1.0.0 tqdm-4.61.0 yahooquery-2.2.15\n"
          ],
          "name": "stdout"
        }
      ]
    },
    {
      "cell_type": "code",
      "metadata": {
        "colab": {
          "base_uri": "https://localhost:8080/"
        },
        "id": "sDPgEspgPIVo",
        "outputId": "98637e28-b38a-4272-f261-8afc2b52bc01"
      },
      "source": [
        "from yahooquery import Ticker\n",
        "import pprint\n",
        "\n",
        "symbol = Ticker('OBXD.OL')\n",
        "\n",
        "#pprint(symbol.summary_detail)\n",
        "print(symbol.fund_sector_weightings)\n",
        "\n",
        "pp = pprint.PrettyPrinter(indent=4)\n",
        "pp.pprint(symbol.fund_holding_info)"
      ],
      "execution_count": 3,
      "outputs": [
        {
          "output_type": "stream",
          "text": [
            "                        OBXD.OL\n",
            "0                              \n",
            "realestate               0.0183\n",
            "consumer_cyclical        0.0000\n",
            "basic_materials          0.1232\n",
            "consumer_defensive       0.1912\n",
            "technology               0.0261\n",
            "communication_services   0.1283\n",
            "financial_services       0.2036\n",
            "utilities                0.0251\n",
            "industrials              0.0647\n",
            "energy                   0.2196\n",
            "healthcare               0.0000\n",
            "{   'OBXD.OL': {   'bondHoldings': {},\n",
            "                   'bondPosition': 0.0,\n",
            "                   'bondRatings': [   {'bb': 0.0},\n",
            "                                      {'aa': 0.0},\n",
            "                                      {'aaa': 0.0},\n",
            "                                      {'a': 0.0},\n",
            "                                      {'other': 0.0},\n",
            "                                      {'b': 0.0},\n",
            "                                      {'bbb': 0.0},\n",
            "                                      {'below_b': 0.0},\n",
            "                                      {'us_government': 0.0}],\n",
            "                   'equityHoldings': {   'priceToBook': 2.11,\n",
            "                                         'priceToCashflow': 9.14,\n",
            "                                         'priceToEarnings': 22.0,\n",
            "                                         'priceToSales': 1.87},\n",
            "                   'holdings': [   {   'holdingName': 'Equinor ASA',\n",
            "                                       'holdingPercent': 0.1549,\n",
            "                                       'symbol': 'EQNR'},\n",
            "                                   {   'holdingName': 'DNB ASA',\n",
            "                                       'holdingPercent': 0.1375,\n",
            "                                       'symbol': 'DNB'},\n",
            "                                   {   'holdingName': 'Telenor ASA',\n",
            "                                       'holdingPercent': 0.077,\n",
            "                                       'symbol': 'TEL'},\n",
            "                                   {   'holdingName': 'Mowi ASA',\n",
            "                                       'holdingPercent': 0.0713,\n",
            "                                       'symbol': 'MOWI'},\n",
            "                                   {   'holdingName': 'Yara International ASA',\n",
            "                                       'holdingPercent': 0.063,\n",
            "                                       'symbol': 'YAR'},\n",
            "                                   {   'holdingName': 'Norsk Hydro ASA',\n",
            "                                       'holdingPercent': 0.0598,\n",
            "                                       'symbol': 'NHY'},\n",
            "                                   {   'holdingName': 'Orkla ASA',\n",
            "                                       'holdingPercent': 0.0511,\n",
            "                                       'symbol': 'ORK'},\n",
            "                                   {   'holdingName': 'Tomra Systems ASA',\n",
            "                                       'holdingPercent': 0.0356,\n",
            "                                       'symbol': 'TOM'},\n",
            "                                   {   'holdingName': 'Storebrand ASA',\n",
            "                                       'holdingPercent': 0.0327,\n",
            "                                       'symbol': 'STB'},\n",
            "                                   {   'holdingName': 'Gjensidige Forsikring '\n",
            "                                                      'ASA',\n",
            "                                       'holdingPercent': 0.0326,\n",
            "                                       'symbol': 'GJF'}],\n",
            "                   'maxAge': 1,\n",
            "                   'sectorWeightings': [   {'realestate': 0.0183},\n",
            "                                           {'consumer_cyclical': 0.0},\n",
            "                                           {'basic_materials': 0.1232},\n",
            "                                           {'consumer_defensive': 0.1912},\n",
            "                                           {'technology': 0.026099999},\n",
            "                                           {'communication_services': 0.1283},\n",
            "                                           {'financial_services': 0.2036},\n",
            "                                           {'utilities': 0.0251},\n",
            "                                           {'industrials': 0.0647},\n",
            "                                           {'energy': 0.21959999},\n",
            "                                           {'healthcare': 0.0}],\n",
            "                   'stockPosition': 0.9961}}\n"
          ],
          "name": "stdout"
        }
      ]
    }
  ]
}